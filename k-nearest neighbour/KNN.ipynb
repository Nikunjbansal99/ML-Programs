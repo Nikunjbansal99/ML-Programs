{
 "cells": [
  {
   "cell_type": "code",
   "execution_count": 1,
   "metadata": {},
   "outputs": [],
   "source": [
    "import pandas as pd "
   ]
  },
  {
   "cell_type": "code",
   "execution_count": 2,
   "metadata": {},
   "outputs": [],
   "source": [
    "def distance(t1, t2):\n",
    "    ans=0\n",
    "    for i,j in zip(t1, t2[:-1]):\n",
    "        ans+=(i-j)**2\n",
    "    return ans**0.5\n"
   ]
  },
  {
   "cell_type": "code",
   "execution_count": 3,
   "metadata": {},
   "outputs": [],
   "source": [
    "filename=R'diabet.csv'\n",
    "df = pd.read_csv(filename)\n",
    "ps = tuple([tuple(x[1]) for x in df.iterrows()][:-5])\n"
   ]
  },
  {
   "cell_type": "code",
   "execution_count": 4,
   "metadata": {},
   "outputs": [
    {
     "name": "stdout",
     "output_type": "stream",
     "text": [
      "Enter point to be predicted: 46\n",
      "Enter k:9\n"
     ]
    }
   ],
   "source": [
    "p = tuple(float(x) for x in input('Enter point to be predicted: ').split())\n",
    "k = int(input('Enter k:'))\n",
    "closest = sorted(ps, key=lambda x : distance(p, x[:-1])) [:k]"
   ]
  },
  {
   "cell_type": "code",
   "execution_count": 5,
   "metadata": {},
   "outputs": [],
   "source": [
    "count = 0"
   ]
  },
  {
   "cell_type": "code",
   "execution_count": 6,
   "metadata": {},
   "outputs": [
    {
     "name": "stdout",
     "output_type": "stream",
     "text": [
      "PATIENT CHANCES OF DIABETES: \n",
      "0\n"
     ]
    }
   ],
   "source": [
    "print(\"PATIENT CHANCES OF DIABETES: \")\n",
    "for a in closest:\n",
    "    if a[-1]==1:\n",
    "        count+=1\n",
    "if count>k/2:\n",
    "    print(1)\n",
    "else:\n",
    "    print(0)"
   ]
  },
  {
   "cell_type": "code",
   "execution_count": null,
   "metadata": {},
   "outputs": [],
   "source": []
  }
 ],
 "metadata": {
  "kernelspec": {
   "display_name": "Python 3",
   "language": "python",
   "name": "python3"
  },
  "language_info": {
   "codemirror_mode": {
    "name": "ipython",
    "version": 3
   },
   "file_extension": ".py",
   "mimetype": "text/x-python",
   "name": "python",
   "nbconvert_exporter": "python",
   "pygments_lexer": "ipython3",
   "version": "3.6.5"
  }
 },
 "nbformat": 4,
 "nbformat_minor": 2
}
